{
 "cells": [
  {
   "cell_type": "markdown",
   "metadata": {},
   "source": [
    "# Homework-1"
   ]
  },
  {
   "cell_type": "markdown",
   "metadata": {},
   "source": [
    "# Problem-1"
   ]
  },
  {
   "cell_type": "code",
   "execution_count": 1,
   "metadata": {
    "collapsed": true
   },
   "outputs": [],
   "source": [
    "#Importing Necessary Libraries\n",
    "import numpy as np\n",
    "from numpy import linalg as LA\n",
    "import scipy as sp\n",
    "from scipy.sparse import linalg\n",
    "import networkx as nx"
   ]
  },
  {
   "cell_type": "code",
   "execution_count": 2,
   "metadata": {
    "collapsed": false
   },
   "outputs": [
    {
     "name": "stdout",
     "output_type": "stream",
     "text": [
      "Adjacency Matrix:\n",
      "[[0 1 1 1 0 0 0 0 0]\n",
      " [1 0 1 0 0 0 0 0 0]\n",
      " [1 1 0 1 0 0 0 0 0]\n",
      " [1 0 1 0 1 1 0 0 0]\n",
      " [0 0 0 1 0 1 1 1 0]\n",
      " [0 0 0 1 1 0 1 1 0]\n",
      " [0 0 0 0 1 1 0 1 1]\n",
      " [0 0 0 0 1 1 1 0 0]\n",
      " [0 0 0 0 0 0 1 0 0]]\n"
     ]
    }
   ],
   "source": [
    "#Let's initialize a sample adjacency matrix for testing the below functins\n",
    "#A is an 9*9 udirected unweighted matrix\n",
    "A = np.array([[0,1,1,1,0,0,0,0,0],[1,0,1,0,0,0,0,0,0],[1,1,0,1,0,0,0,0,0],[1,0,1,0,1,1,0,0,0],[0,0,0,1,0,1,1,1,0],\n",
    "             [0,0,0,1,1,0,1,1,0],[0,0,0,0,1,1,0,1,1],[0,0,0,0,1,1,1,0,0],[0,0,0,0,0,0,1,0,0]])\n",
    "\n",
    "\n",
    "#Creating adjacency matrix using the networkx for centrality functions\n",
    "adjMatrix= nx.from_numpy_matrix(A)\n",
    "print (\"Adjacency Matrix:\")\n",
    "print A"
   ]
  },
  {
   "cell_type": "markdown",
   "metadata": {},
   "source": [
    "# Degree of Node"
   ]
  },
  {
   "cell_type": "code",
   "execution_count": 3,
   "metadata": {
    "collapsed": false
   },
   "outputs": [
    {
     "name": "stdout",
     "output_type": "stream",
     "text": [
      "Degree of matrix is given by:\n"
     ]
    },
    {
     "data": {
      "text/plain": [
       "[3, 2, 3, 4, 4, 4, 4, 3, 1]"
      ]
     },
     "execution_count": 3,
     "metadata": {},
     "output_type": "execute_result"
    }
   ],
   "source": [
    "\"\"\"\n",
    "    Function to define degree of the undirected unweighted graph\n",
    "    I am using A here to test the results since i have used numpy functions , we can also use above converted \n",
    "    nx matrix as well\n",
    "\n",
    "\"\"\"\n",
    "def degree(Adj_matrix):\n",
    "    #converting array into numpy matrix\n",
    "    G=np.matrix(Adj_matrix)\n",
    "    #temporary array to store degree values\n",
    "    nodes_degree=[]\n",
    "    #summing up the row entry(each node) for degree by first converting it to list\n",
    "    d=np.sum(G.tolist(),axis=1)\n",
    "    for i in range (len(d)):\n",
    "        #storing degree values in above mentioned array\n",
    "        nodes_degree.append(d[i])  \n",
    "    #returning list of degrees of nodes\n",
    "    return(list(nodes_degree) ) \n",
    "\n",
    "#Display results\n",
    "print(\"Degree of matrix is given by:\")\n",
    "\n",
    "degree(A)"
   ]
  },
  {
   "cell_type": "markdown",
   "metadata": {},
   "source": [
    "# Betweenness Centrality"
   ]
  },
  {
   "cell_type": "code",
   "execution_count": 4,
   "metadata": {
    "collapsed": false
   },
   "outputs": [
    {
     "name": "stdout",
     "output_type": "stream",
     "text": [
      "Betweenness Centrality of the above matrix using above function is:\n",
      "[3.0, 0.0, 3.0, 15.0, 6.0, 6.0, 7.0, 0.0, 0.0]\n",
      "Betweenness Centrality of the above matrix using Networkx function is:\n",
      "{0: 3.0, 1: 0.0, 2: 3.0, 3: 15.0, 4: 6.0, 5: 6.0, 6: 7.0, 7: 0.0, 8: 0.0}\n"
     ]
    }
   ],
   "source": [
    "\"\"\" Function to Calculate Between Centrality:\n",
    "    For any node 'v' gives the sum of the fraction of all-pairs shortest paths that pass through 'v'\n",
    "    \n",
    "    G: Given Adjacency Matrix\n",
    "    nodes: nodes of matrix\n",
    "    \n",
    "    Algorithm Used:\n",
    "    Breadth First Search algorithm to find the shortest paths till terminal nodes from s(node) and then stepping \n",
    "    back via the saved predecessor nodes to output the paths for the terminal nodes and all the previous nodes. \n",
    "    Thus, i have to go back to s from each node t through all the nodes v which are on the shortest path \n",
    "    between s and t.We can add up the shortest paths at that point, rather than saving them all and then checking \n",
    "    whether v is a member.\n",
    "    \n",
    "    Following is the Algorithm i have used-\n",
    "    \n",
    "    use of a recursive step in the backward phase to allow direct calculation of the ratios for each v on \n",
    "    the basis of its successor nodes on the shortest paths to every following t.\n",
    "    1) δ(t) = 0 if t is a terminal node\n",
    "    2) Increment δ(v) every time we reach v from a node w on the backward phase(v immediately precedes w in a \n",
    "    shortest path from s) based on the values of δ(w).\n",
    "    3) After we have finished with all the w values, δ(v) can be straightforwardly accumulated into CB(v).\n",
    "\n",
    "    Here is revised pseudocode under this assumption:\n",
    "    1. For every node v in V, set betweenness = 0.\n",
    "    2. For each node s in V :\n",
    "        1. set δ(v) to zero for all nodes v in V .\n",
    "        2. Use the BFS algorithm \n",
    "        while Q is not empty, do:\n",
    "            1. dequeue v from Q and push v onto a stack S\n",
    "            2. For each node w such that is an edge in E from v to w, do\n",
    "                1. if dist[w] is infinity, then\n",
    "                   set dist[w] to dist[v] + 1\n",
    "                   enqueue w\n",
    "                2. if dist[w] = dist[v]+1 then\n",
    "                   set σ(s, w) to σ(s, w) + σ(s, v)\n",
    "                   append v to Pred[w]\n",
    "            3. while S is not empty, pop w off S\n",
    "                1. for all nodes v in Pred(w) set δ(v) to δ(v) + MAGIC(δ(w)).\n",
    "                2. unless w = s, set betweenness(w) = betweenness(w) + δ(w)  \n",
    "                \n",
    "    3. betweenness gives end result\n",
    "    \n",
    "    ****Reference:http://www.cl.cam.ac.uk/teaching/1617/MLRD/handbook/brandes.pdf***\n",
    "    \n",
    "\"\"\"\n",
    "def betweenness_centrality(Adj_matrix): \n",
    "    #creates a new dictionary \n",
    "    #set betweenenss=0 for every node initially\n",
    "    betweenness = dict.fromkeys(Adj_matrix, 0.0)  \n",
    "    #fetching nodes from matrix Adj_matrix\n",
    "    nodes = Adj_matrix.nodes\n",
    "    #for loop to calculate centrality measure for every node individually and at last storing them in dictionary\n",
    "    for s in nodes:\n",
    "        #empty list (in form of stack)\n",
    "        Stack = []\n",
    "        #empty dictionary\n",
    "        predessor = {}\n",
    "        #looping for each vertex in graph\n",
    "        for v in Adj_matrix:\n",
    "            predessor[v] = []\n",
    "        #setting sigma  0 for  nodes initially\n",
    "        sigma_val = dict.fromkeys(Adj_matrix, 0.0) \n",
    "        #empty dictionary\n",
    "        Dist = {}\n",
    "        sigma_val[s] = 1.0\n",
    "        Dist[s] = 0\n",
    "        Queue = [s]\n",
    "        #for BFS\n",
    "        #Use the BFS algorithm while Queue is not empty, do:\n",
    "        while Queue:  \n",
    "            #dequeue top element(node) from Q and push v onto stack S\n",
    "            v = Queue.pop(0)\n",
    "            Stack.append(v)\n",
    "            #distance 0f v\n",
    "            d = Dist[v] #distance\n",
    "            sigmav = sigma_val[v]\n",
    "            #For each node g such that is an edge in G from g to v, do\n",
    "            for g in Adj_matrix[v]:\n",
    "                if g not in Dist:\n",
    "                    #enqueue\n",
    "                    Queue.append(g)\n",
    "                    #set distance of g to (d+1)\n",
    "                    Dist[g] = d + 1\n",
    "                    # this gives shortest path\n",
    "                if Dist[g] == d + 1: \n",
    "                    #setting σ(s, w) to σ(s, w) + σ(s, v)\n",
    "                    sigma_val[g] += sigmav\n",
    "                    #add predessors(append g to Pred[g])\n",
    "                    predessor[g].append(v) \n",
    "        #calculation of centrality  \n",
    "        delta = dict.fromkeys(Stack, 0)\n",
    "        #while stack is not empty, pop g off stack\n",
    "        while Stack:\n",
    "            g = Stack.pop()\n",
    "            magic = (1.0 + delta[g]) / sigma_val[g]\n",
    "            #for all nodes v in Pred(g) set δ(v) to δ(v) + coefficient\n",
    "            for v in predessor[g]:\n",
    "                delta[v] += sigma_val[v] * magic\n",
    "            if g != s:\n",
    "                betweenness[g] += delta[g]\n",
    "    #Scaling \n",
    "    scale = 0.5\n",
    "    for b in betweenness:\n",
    "         betweenness[b] *= scale\n",
    "    b_centrality=list(betweenness.values())\n",
    "    #Returning centrality values in form of list(As mentioned in Problem Requirments)\n",
    "    return b_centrality\n",
    "\n",
    "#Checking the above function\n",
    "print (\"Betweenness Centrality of the above matrix using above function is:\") \n",
    "print betweenness_centrality(adjMatrix)\n",
    "\n",
    "\n",
    "#Validating the above result against Networkx library Function\n",
    "print (\"Betweenness Centrality of the above matrix using Networkx function is:\") \n",
    "print nx.betweenness_centrality(adjMatrix,normalized=False)"
   ]
  },
  {
   "cell_type": "markdown",
   "metadata": {},
   "source": [
    "# Closeness Centrality"
   ]
  },
  {
   "cell_type": "code",
   "execution_count": 5,
   "metadata": {
    "collapsed": false
   },
   "outputs": [
    {
     "name": "stdout",
     "output_type": "stream",
     "text": [
      "closeness Centrality of the above matrix using above function is:\n",
      "[0.47058823529411764, 0.34782608695652173, 0.47058823529411764, 0.6153846153846154, 0.6153846153846154, 0.6153846153846154, 0.5, 0.47058823529411764, 0.34782608695652173]\n",
      "closeness Centrality of the above matrix using Networkx function is:\n",
      "{0: 0.47058823529411764, 1: 0.34782608695652173, 2: 0.47058823529411764, 3: 0.6153846153846154, 4: 0.6153846153846154, 5: 0.6153846153846154, 6: 0.5, 7: 0.47058823529411764, 8: 0.34782608695652173}\n"
     ]
    }
   ],
   "source": [
    "\"\"\" Function for closeness Centrality:\n",
    "    For any node node 'u', it is the reciprocal of the  shortest path distance to 'u' over all 'n-1' reachable nodes.\n",
    "    \n",
    "    G: Given Adjacency Matrix\n",
    "    nodes: nodes of matrix\n",
    "    \n",
    "    Algorithm Used:\n",
    "    1)Given G,s\n",
    "    2)seen ← {s}\n",
    "    3) visit ← {s}\n",
    "    4) visitNext ← ∅\n",
    "    5)\n",
    "    6) while visit not= ∅\n",
    "    7) for each v ∈ visit do\n",
    "    8) for each n ∈ neighborsv do\n",
    "    9) if n not∈ seen then\n",
    "    10) seen ← seen ∪ {n}\n",
    "    11) visitNext ← visitNext ∪ {n}\n",
    "    12) do BFS computation on n\n",
    "    13) visit ← visitNext\n",
    "    14) visitNext ← ∅\n",
    "    \n",
    "    ***Refrence:https://db.in.tum.de/~kaufmann/papers/msbfs.pdf***\n",
    "    \n",
    "\"\"\"\n",
    "def closeness_centrality(Adj_matrix):\n",
    "    nodes=list(Adj_matrix.nodes)\n",
    "    closeness_c = {}\n",
    "    for n in nodes:\n",
    "        #\n",
    "        s=[]\n",
    "        #Starting node for path \n",
    "        source=nodes[n]\n",
    "        #number of visited nodes in BFS\n",
    "        seen={}   \n",
    "        #current level of node (visit)\n",
    "        current_level=0                 \n",
    "        # dict of nodes to check nodes at the  next level\n",
    "        next_level={source:1}  \n",
    "        while next_level:\n",
    "            #go to this level(neighbor's)\n",
    "            move_to_this_level=next_level \n",
    "            #starting new list \n",
    "            next_level={}         \n",
    "            for m in move_to_this_level:\n",
    "                if m not in seen:\n",
    "                    # setting level of vertex m\n",
    "                    seen[m]=current_level \n",
    "                    # adding the neighbors of vertex m\n",
    "                    next_level.update(Adj_matrix[m]) \n",
    "            #updating current level\n",
    "            current_level=current_level+1\n",
    "        #sum of all shrtest paths\n",
    "        s=sum(seen.values())\n",
    "        if s > 0.0:\n",
    "            closeness_c[n] = (len(Adj_matrix) - 1.0) / s\n",
    "            #closeness_centrality[n] = 0.0\n",
    "            \n",
    "    #getting the centrality values in a list\n",
    "    c_centrality=list(closeness_c.values())\n",
    "    return c_centrality\n",
    "\n",
    "#Checking the above function\n",
    "print (\"closeness Centrality of the above matrix using above function is:\") \n",
    "print closeness_centrality(adjMatrix)\n",
    "\n",
    "\n",
    "#Validating the above result against Networkx library Function\n",
    "print (\"closeness Centrality of the above matrix using Networkx function is:\") \n",
    "print nx.closeness_centrality(adjMatrix)"
   ]
  },
  {
   "cell_type": "markdown",
   "metadata": {},
   "source": [
    "# Eigenvector Centrality"
   ]
  },
  {
   "cell_type": "code",
   "execution_count": 6,
   "metadata": {
    "collapsed": false
   },
   "outputs": [
    {
     "name": "stdout",
     "output_type": "stream",
     "text": [
      "eigenvector Centrality of the above matrix using above function is:\n",
      "[0.19574879570918463, 0.11168370323986701, 0.19574879570918463, 0.37874802533567892, 0.46808547631042224, 0.46808547631042224, 0.40997938953295321, 0.38402038384110471, 0.11695606174529276]\n",
      "eigenvector Centrality of the above matrix using Networkx function is:\n",
      "{0: 0.1957540414970864, 1: 0.1116880543296416, 2: 0.19575404149708636, 3: 0.378751077373384, 4: 0.4680839101306905, 5: 0.4680839101306905, 6: 0.4099765880693859, 7: 0.3840179229632457, 8: 0.11695489991950335}\n"
     ]
    }
   ],
   "source": [
    "\"\"\" computes the centrality for a node based on the centrality of its neighbors\n",
    "    G :Adjacency Matrix\n",
    "    \n",
    "    Algorithm Used:\n",
    "    It uses the SciPy sparse eigenvalue solver (ARPACK) to find the largest eigenvalue or eigenvector pair.\n",
    "    I have used max iterations of 50(random)\n",
    "\"\"\"\n",
    "\n",
    "def eigenvector_centrality(Adj_matrix):\n",
    "    values={}\n",
    "    #i am using Scipy to get largest postive values\n",
    "    M = nx.to_scipy_sparse_matrix(Adj_matrix, nodelist=list(Adj_matrix), weight=None,dtype=float) \n",
    "    #getting eigen values\n",
    "    e_value, e_vector = linalg.eigs(M.T, k=1, which='LR',maxiter=50, tol=0)\n",
    "    #largest values\n",
    "    largest_value = e_vector.flatten().real\n",
    "    #normlizing the values\n",
    "    norm = sp.sign(largest_value.sum()) * sp.linalg.norm(largest_value)\n",
    "    #saving the eigen values in dict\n",
    "    final_val=dict(zip(Adj_matrix, largest_value / norm))\n",
    "    \n",
    "    #returning list\n",
    "    return list(final_val.values())\n",
    "\n",
    "\n",
    "\n",
    "#Checking the above function\n",
    "print (\"eigenvector Centrality of the above matrix using above function is:\") \n",
    "print eigenvector_centrality(adjMatrix)\n",
    "\n",
    "\n",
    "#Validating the above result against Networkx library Function\n",
    "print (\"eigenvector Centrality of the above matrix using Networkx function is:\") \n",
    "print nx.eigenvector_centrality(adjMatrix)"
   ]
  },
  {
   "cell_type": "markdown",
   "metadata": {},
   "source": [
    "# Problem-2\n"
   ]
  },
  {
   "cell_type": "code",
   "execution_count": 7,
   "metadata": {
    "collapsed": true
   },
   "outputs": [],
   "source": [
    "#Importing Libraries as needed\n",
    "import networkx as nx\n",
    "import numpy as np\n",
    "import matplotlib.pyplot as plt"
   ]
  },
  {
   "cell_type": "code",
   "execution_count": 8,
   "metadata": {
    "collapsed": true
   },
   "outputs": [],
   "source": [
    "#Let's initialize a sample adjacency matrix for graph Plotting \n",
    "B = np.array([[0,1,1,1,0,0,0,0,0],[1,0,1,0,0,0,0,0,0],[1,1,0,1,0,0,0,0,0],[1,0,1,0,1,1,0,0,0],[0,0,0,1,0,1,1,1,0],\n",
    "             [0,0,0,1,1,0,1,1,0],[0,0,0,0,1,1,0,1,1],[0,0,0,0,1,1,1,0,0],[0,0,0,0,0,0,1,0,0]])"
   ]
  },
  {
   "cell_type": "code",
   "execution_count": 9,
   "metadata": {
    "collapsed": false
   },
   "outputs": [
    {
     "data": {
      "image/png": "[encoded data removed]",
      "text/plain": [
       "<matplotlib.figure.Figure at 0x1511295710>"
      ]
     },
     "metadata": {},
     "output_type": "display_data"
    }
   ],
   "source": [
    "#Function to display graph\n",
    "#i have adjusted the node_size on basis of its eigen vector value\n",
    "#i have multiplied the eigen vector values to 10000 to make it visible in graph\n",
    "def create_graph(Adj_Matrix):\n",
    "    #Getting numpy matrix\n",
    "    H = nx.from_numpy_matrix(Adj_Matrix)\n",
    "    #getting eigen vector centrality values for nodes\n",
    "    eigen=nx.eigenvector_centrality(H)\n",
    "    G=nx.Graph(H)\n",
    "    nx.draw(G,pos=nx.circular_layout(G),with_labels=True,nodelist=eigen.keys(),font_size=15,node_color='g',node_size=[int(10000*round(float(w),3),) for w in eigen.values()])\n",
    "    plt.show()\n",
    "    \n",
    "    \n",
    "#Display graph\n",
    "create_graph(B)\n",
    "#node size of node 0 and node 2 is same since it is getting same eigen centrality\n",
    "#Similarly,size of node 4 and node 5 is same since it is getting same eigen centrality"
   ]
  }
 ],
 "metadata": {
  "kernelspec": {
   "display_name": "Python 2",
   "language": "python",
   "name": "python2"
  },
  "language_info": {
   "codemirror_mode": {
    "name": "ipython",
    "version": 2
   },
   "file_extension": ".py",
   "mimetype": "text/x-python",
   "name": "python",
   "nbconvert_exporter": "python",
   "pygments_lexer": "ipython2",
   "version": "2.7.11"
  }
 },
 "nbformat": 4,
 "nbformat_minor": 2
}
